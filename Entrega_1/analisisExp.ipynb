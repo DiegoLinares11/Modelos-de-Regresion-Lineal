{
 "cells": [
  {
   "cell_type": "markdown",
   "metadata": {},
   "source": [
    "## Integrantes\n",
    "- Nelson García  \n",
    "- Diego Linares\n",
    "- Joaquin Puente\n",
    "- José Mérida\n",
    "- Joaquín Campos"
   ]
  },
  {
   "cell_type": "markdown",
   "metadata": {},
   "source": [
    "# Análisis exploratorio"
   ]
  },
  {
   "cell_type": "code",
   "execution_count": null,
   "metadata": {},
   "outputs": [
    {
     "ename": "",
     "evalue": "",
     "output_type": "error",
     "traceback": [
      "\u001b[1;31mRunning cells with 'Python 3.13.1' requires the ipykernel package.\n",
      "\u001b[1;31mRun the following command to install 'ipykernel' into the Python environment. \n",
      "\u001b[1;31mCommand: '/bin/python -m pip install ipykernel -U --user --force-reinstall'"
     ]
    }
   ],
   "source": [
    "import pandas as pd\n",
    "import seaborn as sns\n",
    "import matplotlib.pyplot as plt\n",
    "from sklearn.preprocessing import StandardScaler\n",
    "from ydata_profiling import ProfileReport"
   ]
  },
  {
   "cell_type": "code",
   "execution_count": null,
   "metadata": {},
   "outputs": [],
   "source": [
    "# estaremos definiendo ambos csvs para poder tener acceso a ambos pero usaremos el train y luego sobre el test replicaremos una vez se considere importante\n",
    "dftest = pd.read_csv(\"../data/test.csv\")\n",
    "\n",
    "# Definir NA como nuestros NaN\n",
    "dftrain = pd.read_csv(\"../data/train.csv\", na_values=[\"NA\"])\n",
    "\n",
    "# incluimos en el analissi exploratorio lo basico para poder tenerlo a la mano\n",
    "dftrain.head()"
   ]
  },
  {
   "cell_type": "code",
   "execution_count": null,
   "metadata": {},
   "outputs": [],
   "source": [
    "# datos estadísticos básicos \n",
    "dftrain.describe()"
   ]
  },
  {
   "cell_type": "code",
   "execution_count": null,
   "metadata": {},
   "outputs": [],
   "source": [
    "# tipos\n",
    "dftrain.info()"
   ]
  },
  {
   "cell_type": "markdown",
   "metadata": {},
   "source": [
    "### Análisis Exploratorio\n"
   ]
  },
  {
   "cell_type": "markdown",
   "metadata": {},
   "source": [
    "## ¿Qué variables podriamos eliminar?  "
   ]
  },
  {
   "cell_type": "code",
   "execution_count": null,
   "metadata": {},
   "outputs": [],
   "source": [
    "# Revisamos posibles variables redundantes entre sí mismas\n",
    "print(dftrain.nunique())"
   ]
  },
  {
   "cell_type": "markdown",
   "metadata": {},
   "source": [
    "### Evaluaciones entre variables 2darias para ver redundancia con la 1\n"
   ]
  },
  {
   "cell_type": "code",
   "execution_count": null,
   "metadata": {},
   "outputs": [],
   "source": [
    "# condition\n",
    "condition_diff_count = (dftrain[\"Condition1\"] != dftrain[\"Condition2\"]).sum()\n",
    "print(f\"Number of rows with different Condition1 and Condition2: {condition_diff_count}\")\n",
    "# exterior\n",
    "exterior_diff_count = (dftrain[\"Exterior1st\"] != dftrain[\"Exterior2nd\"]).sum()\n",
    "print(f\"Number of rows with different Exterior1st and Exterior2nd: {exterior_diff_count}\")\n",
    "# BsmtFinSF2\n",
    "bsmt_diff_count = (dftrain[\"BsmtFinSF1\"] != dftrain[\"BsmtFinSF2\"]).sum()\n",
    "print(f\"Number of rows with different BsmtFinSF1 and BsmtFinSF2: {bsmt_diff_count}\")\n",
    "\n"
   ]
  },
  {
   "cell_type": "markdown",
   "metadata": {},
   "source": [
    "En conclusion podemos definir que las variables 2darias no las podemos eliminar del todo porque numeros como 195 son pesados o voluminosos para posibles calculos en el futuro con SalesPrice\n"
   ]
  },
  {
   "cell_type": "markdown",
   "metadata": {},
   "source": [
    "### Variables con valores nulos\n"
   ]
  },
  {
   "cell_type": "code",
   "execution_count": null,
   "metadata": {},
   "outputs": [],
   "source": [
    "# Verificar cuántos valores nulos hay en cada columna\n",
    "missing_values = dftrain.isnull().sum() / len(dftrain) * 100\n",
    "print(missing_values.sort_values(ascending=False))"
   ]
  },
  {
   "cell_type": "markdown",
   "metadata": {},
   "source": [
    "Con este output podemos eliminar 4 variables irrelevantes porque tienen NaN en 80% o más (recordemos que NA se cambio por el NaN al leer en el csv)"
   ]
  },
  {
   "cell_type": "markdown",
   "metadata": {},
   "source": []
  },
  {
   "cell_type": "markdown",
   "metadata": {},
   "source": [
    "## ¿El Id valdrá la pena?\n",
    "Al ser el Id solo un identificador unico de las casas no es relevante para el valor que estamos buscando predecir"
   ]
  },
  {
   "cell_type": "code",
   "execution_count": null,
   "metadata": {},
   "outputs": [
    {
     "ename": "",
     "evalue": "",
     "output_type": "error",
     "traceback": [
      "\u001b[1;31mRunning cells with 'Python 3.13.1' requires the ipykernel package.\n",
      "\u001b[1;31mRun the following command to install 'ipykernel' into the Python environment. \n",
      "\u001b[1;31mCommand: '/bin/python -m pip install ipykernel -U --user --force-reinstall'"
     ]
    }
   ],
   "source": [
    "dftrain_original = dftrain.copy()  # Guarda una copia por si acaso\n",
    "dftrain = dftrain.drop([\"Id\", \"MiscFeature\", \"PoolQC\", \"Alley\", \"Fence\"], axis=1)"
   ]
  },
  {
   "cell_type": "code",
   "execution_count": null,
   "metadata": {},
   "outputs": [],
   "source": [
    "#Para verificar que se han eliminado.\n",
    "print(dftrain.columns.tolist())"
   ]
  },
  {
   "cell_type": "markdown",
   "metadata": {},
   "source": [
    "Despues de eliminar esas columnas, podriamos volver a contar valores nulos por columna. "
   ]
  },
  {
   "cell_type": "code",
   "execution_count": null,
   "metadata": {},
   "outputs": [],
   "source": [
    "# Contar valores nulos por columna\n",
    "missing_values = dftrain.isnull().sum().sort_values(ascending=False)\n",
    "missing_values[missing_values > 0]"
   ]
  },
  {
   "cell_type": "markdown",
   "metadata": {},
   "source": [
    "Para variables nulos en numericas se reemplazaran con la mediana."
   ]
  },
  {
   "cell_type": "code",
   "execution_count": null,
   "metadata": {},
   "outputs": [],
   "source": [
    "# Reemplazo en numéricas\n",
    "num_cols = dftrain.select_dtypes(include=[\"number\"]).columns\n",
    "dftrain[num_cols] = dftrain[num_cols].fillna(dftrain[num_cols].median())"
   ]
  }
 ],
 "metadata": {
  "kernelspec": {
   "display_name": "Python 3",
   "language": "python",
   "name": "python3"
  },
  "language_info": {
   "codemirror_mode": {
    "name": "ipython",
    "version": 3
   },
   "file_extension": ".py",
   "mimetype": "text/x-python",
   "name": "python",
   "nbconvert_exporter": "python",
   "pygments_lexer": "ipython3",
   "version": "3.13.1"
  }
 },
 "nbformat": 4,
 "nbformat_minor": 2
}
